{
  "cells": [
    {
      "cell_type": "markdown",
      "metadata": {
        "id": "sAZ3hhmETUic"
      },
      "source": [
        "# Road Traffic Accident Data"
      ]
    },
    {
      "cell_type": "markdown",
      "metadata": {
        "id": "K1ubOW6iTUe3"
      },
      "source": [
        "### 01 Data Preprocessing\n",
        " 1. Understand the Data\n",
        " 2. Handle Missing Values\n",
        " 3. Handle Duplicates\n",
        " 4. Handle Outliers\n",
        " 5. Handle Incorrect or Inconsistent Data\n",
        " 6. Encode Categorical Variables\n",
        " 7. Save Processed Data"
      ]
    },
    {
      "cell_type": "markdown",
      "metadata": {
        "id": "z4FQ3Gf1TdYN"
      },
      "source": [
        "### 1. Understand the Data\n",
        "* Load the dataset (CSV, Excel, JSON, SQL, etc.).\n",
        "* Check the structure of the dataset (rows, columns, data types,statis etc)."
      ]
    },
    {
      "cell_type": "code",
      "execution_count": 1,
      "metadata": {
        "id": "0ztYAjvgSaPK"
      },
      "outputs": [],
      "source": [
        "# Import all the required libraries\n",
        "import pandas as pd\n",
        "import numpy as np"
      ]
    },
    {
      "cell_type": "code",
      "execution_count": 3,
      "metadata": {
        "id": "KerurbRLSaL-"
      },
      "outputs": [],
      "source": [
        "# I have data in 2 files so we will combine and use it.\n",
        "df1 = pd.read_csv(r\"C:\\Users\\Administrator\\OneDrive\\Desktop\\Accident prediction\\Datasets\\raw\\RTA Dataset.csv\")\n",
        "df2 = pd.read_csv(r\"C:\\Users\\Administrator\\OneDrive\\Desktop\\Accident prediction\\Datasets\\raw\\RTADatasetE1.csv\")"
      ]
    },
    {
      "cell_type": "code",
      "execution_count": 4,
      "metadata": {
        "colab": {
          "base_uri": "https://localhost:8080/"
        },
        "id": "8EiXLEzZSaJf",
        "outputId": "1f1dd55d-844d-4636-902f-3297ea80339e"
      },
      "outputs": [
        {
          "data": {
            "text/plain": [
              "((12316, 32), (2889, 30))"
            ]
          },
          "execution_count": 4,
          "metadata": {},
          "output_type": "execute_result"
        }
      ],
      "source": [
        "df1.shape,df2.shape"
      ]
    },
    {
      "cell_type": "code",
      "execution_count": 5,
      "metadata": {
        "colab": {
          "base_uri": "https://localhost:8080/"
        },
        "id": "8xzCqP04SaHG",
        "outputId": "fe9fb7f8-68c1-4cb3-b464-527a96e06387"
      },
      "outputs": [
        {
          "data": {
            "text/plain": [
              "Index(['Number_of_casualties', 'Number_of_vehicles_involved'], dtype='object')"
            ]
          },
          "execution_count": 5,
          "metadata": {},
          "output_type": "execute_result"
        }
      ],
      "source": [
        "df1.columns.difference(df2.columns)"
      ]
    },
    {
      "cell_type": "code",
      "execution_count": 6,
      "metadata": {
        "id": "fzIWQB3SSaEw"
      },
      "outputs": [],
      "source": [
        "df = pd.concat([df1,df2],axis =0)\n"
      ]
    },
    {
      "cell_type": "code",
      "execution_count": 8,
      "metadata": {
        "colab": {
          "base_uri": "https://localhost:8080/"
        },
        "id": "2lut8v83SaCP",
        "outputId": "49233ad4-f4ef-472e-dfab-854f53ff2d15"
      },
      "outputs": [
        {
          "data": {
            "text/plain": [
              "(15205, 32)"
            ]
          },
          "execution_count": 8,
          "metadata": {},
          "output_type": "execute_result"
        }
      ],
      "source": [
        "df.shape"
      ]
    },
    {
      "cell_type": "code",
      "execution_count": 7,
      "metadata": {
        "id": "oLvjUaRlSZ_7"
      },
      "outputs": [],
      "source": [
        "df_copy = df.copy()"
      ]
    },
    {
      "cell_type": "code",
      "execution_count": 9,
      "metadata": {
        "colab": {
          "base_uri": "https://localhost:8080/",
          "height": 307
        },
        "id": "JMw4kVayU-0P",
        "outputId": "368a6cd3-00a7-45de-c062-354e2f8bdc80"
      },
      "outputs": [
        {
          "data": {
            "text/html": [
              "<div>\n",
              "<style scoped>\n",
              "    .dataframe tbody tr th:only-of-type {\n",
              "        vertical-align: middle;\n",
              "    }\n",
              "\n",
              "    .dataframe tbody tr th {\n",
              "        vertical-align: top;\n",
              "    }\n",
              "\n",
              "    .dataframe thead th {\n",
              "        text-align: right;\n",
              "    }\n",
              "</style>\n",
              "<table border=\"1\" class=\"dataframe\">\n",
              "  <thead>\n",
              "    <tr style=\"text-align: right;\">\n",
              "      <th></th>\n",
              "      <th>Time</th>\n",
              "      <th>Day_of_week</th>\n",
              "      <th>Age_band_of_driver</th>\n",
              "      <th>Sex_of_driver</th>\n",
              "      <th>Educational_level</th>\n",
              "      <th>Vehicle_driver_relation</th>\n",
              "      <th>Driving_experience</th>\n",
              "      <th>Type_of_vehicle</th>\n",
              "      <th>Owner_of_vehicle</th>\n",
              "      <th>Service_year_of_vehicle</th>\n",
              "      <th>...</th>\n",
              "      <th>Vehicle_movement</th>\n",
              "      <th>Casualty_class</th>\n",
              "      <th>Sex_of_casualty</th>\n",
              "      <th>Age_band_of_casualty</th>\n",
              "      <th>Casualty_severity</th>\n",
              "      <th>Work_of_casuality</th>\n",
              "      <th>Fitness_of_casuality</th>\n",
              "      <th>Pedestrian_movement</th>\n",
              "      <th>Cause_of_accident</th>\n",
              "      <th>Accident_severity</th>\n",
              "    </tr>\n",
              "  </thead>\n",
              "  <tbody>\n",
              "    <tr>\n",
              "      <th>0</th>\n",
              "      <td>17:02:00</td>\n",
              "      <td>Monday</td>\n",
              "      <td>18-30</td>\n",
              "      <td>Male</td>\n",
              "      <td>Above high school</td>\n",
              "      <td>Employee</td>\n",
              "      <td>1-2yr</td>\n",
              "      <td>Automobile</td>\n",
              "      <td>Owner</td>\n",
              "      <td>Above 10yr</td>\n",
              "      <td>...</td>\n",
              "      <td>Going straight</td>\n",
              "      <td>na</td>\n",
              "      <td>na</td>\n",
              "      <td>na</td>\n",
              "      <td>na</td>\n",
              "      <td>NaN</td>\n",
              "      <td>NaN</td>\n",
              "      <td>Not a Pedestrian</td>\n",
              "      <td>Moving Backward</td>\n",
              "      <td>Slight Injury</td>\n",
              "    </tr>\n",
              "    <tr>\n",
              "      <th>1</th>\n",
              "      <td>17:02:00</td>\n",
              "      <td>Monday</td>\n",
              "      <td>31-50</td>\n",
              "      <td>Male</td>\n",
              "      <td>Junior high school</td>\n",
              "      <td>Employee</td>\n",
              "      <td>Above 10yr</td>\n",
              "      <td>Public (&gt; 45 seats)</td>\n",
              "      <td>Owner</td>\n",
              "      <td>5-10yrs</td>\n",
              "      <td>...</td>\n",
              "      <td>Going straight</td>\n",
              "      <td>na</td>\n",
              "      <td>na</td>\n",
              "      <td>na</td>\n",
              "      <td>na</td>\n",
              "      <td>NaN</td>\n",
              "      <td>NaN</td>\n",
              "      <td>Not a Pedestrian</td>\n",
              "      <td>Overtaking</td>\n",
              "      <td>Slight Injury</td>\n",
              "    </tr>\n",
              "    <tr>\n",
              "      <th>2</th>\n",
              "      <td>17:02:00</td>\n",
              "      <td>Monday</td>\n",
              "      <td>18-30</td>\n",
              "      <td>Male</td>\n",
              "      <td>Junior high school</td>\n",
              "      <td>Employee</td>\n",
              "      <td>1-2yr</td>\n",
              "      <td>Lorry (41?100Q)</td>\n",
              "      <td>Owner</td>\n",
              "      <td>NaN</td>\n",
              "      <td>...</td>\n",
              "      <td>Going straight</td>\n",
              "      <td>Driver or rider</td>\n",
              "      <td>Male</td>\n",
              "      <td>31-50</td>\n",
              "      <td>3</td>\n",
              "      <td>Driver</td>\n",
              "      <td>NaN</td>\n",
              "      <td>Not a Pedestrian</td>\n",
              "      <td>Changing lane to the left</td>\n",
              "      <td>Serious Injury</td>\n",
              "    </tr>\n",
              "    <tr>\n",
              "      <th>3</th>\n",
              "      <td>01:06:00</td>\n",
              "      <td>Sunday</td>\n",
              "      <td>18-30</td>\n",
              "      <td>Male</td>\n",
              "      <td>Junior high school</td>\n",
              "      <td>Employee</td>\n",
              "      <td>5-10yr</td>\n",
              "      <td>Public (&gt; 45 seats)</td>\n",
              "      <td>Governmental</td>\n",
              "      <td>NaN</td>\n",
              "      <td>...</td>\n",
              "      <td>Going straight</td>\n",
              "      <td>Pedestrian</td>\n",
              "      <td>Female</td>\n",
              "      <td>18-30</td>\n",
              "      <td>3</td>\n",
              "      <td>Driver</td>\n",
              "      <td>Normal</td>\n",
              "      <td>Not a Pedestrian</td>\n",
              "      <td>Changing lane to the right</td>\n",
              "      <td>Slight Injury</td>\n",
              "    </tr>\n",
              "    <tr>\n",
              "      <th>4</th>\n",
              "      <td>01:06:00</td>\n",
              "      <td>Sunday</td>\n",
              "      <td>18-30</td>\n",
              "      <td>Male</td>\n",
              "      <td>Junior high school</td>\n",
              "      <td>Employee</td>\n",
              "      <td>2-5yr</td>\n",
              "      <td>NaN</td>\n",
              "      <td>Owner</td>\n",
              "      <td>5-10yrs</td>\n",
              "      <td>...</td>\n",
              "      <td>Going straight</td>\n",
              "      <td>na</td>\n",
              "      <td>na</td>\n",
              "      <td>na</td>\n",
              "      <td>na</td>\n",
              "      <td>NaN</td>\n",
              "      <td>NaN</td>\n",
              "      <td>Not a Pedestrian</td>\n",
              "      <td>Overtaking</td>\n",
              "      <td>Slight Injury</td>\n",
              "    </tr>\n",
              "  </tbody>\n",
              "</table>\n",
              "<p>5 rows × 32 columns</p>\n",
              "</div>"
            ],
            "text/plain": [
              "       Time Day_of_week Age_band_of_driver Sex_of_driver   Educational_level  \\\n",
              "0  17:02:00      Monday              18-30          Male   Above high school   \n",
              "1  17:02:00      Monday              31-50          Male  Junior high school   \n",
              "2  17:02:00      Monday              18-30          Male  Junior high school   \n",
              "3  01:06:00      Sunday              18-30          Male  Junior high school   \n",
              "4  01:06:00      Sunday              18-30          Male  Junior high school   \n",
              "\n",
              "  Vehicle_driver_relation Driving_experience      Type_of_vehicle  \\\n",
              "0                Employee              1-2yr           Automobile   \n",
              "1                Employee         Above 10yr  Public (> 45 seats)   \n",
              "2                Employee              1-2yr      Lorry (41?100Q)   \n",
              "3                Employee             5-10yr  Public (> 45 seats)   \n",
              "4                Employee              2-5yr                  NaN   \n",
              "\n",
              "  Owner_of_vehicle Service_year_of_vehicle  ... Vehicle_movement  \\\n",
              "0            Owner              Above 10yr  ...   Going straight   \n",
              "1            Owner                 5-10yrs  ...   Going straight   \n",
              "2            Owner                     NaN  ...   Going straight   \n",
              "3     Governmental                     NaN  ...   Going straight   \n",
              "4            Owner                 5-10yrs  ...   Going straight   \n",
              "\n",
              "    Casualty_class Sex_of_casualty Age_band_of_casualty Casualty_severity  \\\n",
              "0               na              na                   na                na   \n",
              "1               na              na                   na                na   \n",
              "2  Driver or rider            Male                31-50                 3   \n",
              "3       Pedestrian          Female                18-30                 3   \n",
              "4               na              na                   na                na   \n",
              "\n",
              "  Work_of_casuality Fitness_of_casuality Pedestrian_movement  \\\n",
              "0               NaN                  NaN    Not a Pedestrian   \n",
              "1               NaN                  NaN    Not a Pedestrian   \n",
              "2            Driver                  NaN    Not a Pedestrian   \n",
              "3            Driver               Normal    Not a Pedestrian   \n",
              "4               NaN                  NaN    Not a Pedestrian   \n",
              "\n",
              "            Cause_of_accident Accident_severity  \n",
              "0             Moving Backward     Slight Injury  \n",
              "1                  Overtaking     Slight Injury  \n",
              "2   Changing lane to the left    Serious Injury  \n",
              "3  Changing lane to the right     Slight Injury  \n",
              "4                  Overtaking     Slight Injury  \n",
              "\n",
              "[5 rows x 32 columns]"
            ]
          },
          "execution_count": 9,
          "metadata": {},
          "output_type": "execute_result"
        }
      ],
      "source": [
        "df.head()"
      ]
    },
    {
      "cell_type": "code",
      "execution_count": 10,
      "metadata": {
        "colab": {
          "base_uri": "https://localhost:8080/"
        },
        "id": "omvDB1JsUjv9",
        "outputId": "f8afa406-b5aa-4d80-85f3-35b40a0ce137"
      },
      "outputs": [
        {
          "name": "stdout",
          "output_type": "stream",
          "text": [
            "<class 'pandas.core.frame.DataFrame'>\n",
            "Index: 15205 entries, 0 to 2888\n",
            "Data columns (total 32 columns):\n",
            " #   Column                       Non-Null Count  Dtype  \n",
            "---  ------                       --------------  -----  \n",
            " 0   Time                         15205 non-null  object \n",
            " 1   Day_of_week                  15205 non-null  object \n",
            " 2   Age_band_of_driver           15205 non-null  object \n",
            " 3   Sex_of_driver                15205 non-null  object \n",
            " 4   Educational_level            14464 non-null  object \n",
            " 5   Vehicle_driver_relation      14626 non-null  object \n",
            " 6   Driving_experience           14376 non-null  object \n",
            " 7   Type_of_vehicle              14255 non-null  object \n",
            " 8   Owner_of_vehicle             14723 non-null  object \n",
            " 9   Service_year_of_vehicle      11277 non-null  object \n",
            " 10  Defect_of_vehicle            10778 non-null  object \n",
            " 11  Area_accident_occured        14966 non-null  object \n",
            " 12  Lanes_or_Medians             14820 non-null  object \n",
            " 13  Road_allignment              15063 non-null  object \n",
            " 14  Types_of_Junction            14318 non-null  object \n",
            " 15  Road_surface_type            15033 non-null  object \n",
            " 16  Road_surface_conditions      15205 non-null  object \n",
            " 17  Light_conditions             15205 non-null  object \n",
            " 18  Weather_conditions           15205 non-null  object \n",
            " 19  Type_of_collision            15050 non-null  object \n",
            " 20  Number_of_vehicles_involved  12316 non-null  float64\n",
            " 21  Number_of_casualties         12316 non-null  float64\n",
            " 22  Vehicle_movement             14897 non-null  object \n",
            " 23  Casualty_class               15205 non-null  object \n",
            " 24  Sex_of_casualty              15205 non-null  object \n",
            " 25  Age_band_of_casualty         14163 non-null  object \n",
            " 26  Casualty_severity            15205 non-null  object \n",
            " 27  Work_of_casuality            12007 non-null  object \n",
            " 28  Fitness_of_casuality         12570 non-null  object \n",
            " 29  Pedestrian_movement          15205 non-null  object \n",
            " 30  Cause_of_accident            15205 non-null  object \n",
            " 31  Accident_severity            15205 non-null  object \n",
            "dtypes: float64(2), object(30)\n",
            "memory usage: 3.8+ MB\n"
          ]
        }
      ],
      "source": [
        "df.info()"
      ]
    },
    {
      "cell_type": "code",
      "execution_count": 11,
      "metadata": {
        "colab": {
          "base_uri": "https://localhost:8080/",
          "height": 300
        },
        "id": "iPvpGAF8Ujsm",
        "outputId": "a79d5bdb-32a8-44a8-d0d0-095a4f14a1d9"
      },
      "outputs": [
        {
          "data": {
            "text/html": [
              "<div>\n",
              "<style scoped>\n",
              "    .dataframe tbody tr th:only-of-type {\n",
              "        vertical-align: middle;\n",
              "    }\n",
              "\n",
              "    .dataframe tbody tr th {\n",
              "        vertical-align: top;\n",
              "    }\n",
              "\n",
              "    .dataframe thead th {\n",
              "        text-align: right;\n",
              "    }\n",
              "</style>\n",
              "<table border=\"1\" class=\"dataframe\">\n",
              "  <thead>\n",
              "    <tr style=\"text-align: right;\">\n",
              "      <th></th>\n",
              "      <th>Number_of_vehicles_involved</th>\n",
              "      <th>Number_of_casualties</th>\n",
              "    </tr>\n",
              "  </thead>\n",
              "  <tbody>\n",
              "    <tr>\n",
              "      <th>count</th>\n",
              "      <td>12316.000000</td>\n",
              "      <td>12316.000000</td>\n",
              "    </tr>\n",
              "    <tr>\n",
              "      <th>mean</th>\n",
              "      <td>2.040679</td>\n",
              "      <td>1.548149</td>\n",
              "    </tr>\n",
              "    <tr>\n",
              "      <th>std</th>\n",
              "      <td>0.688790</td>\n",
              "      <td>1.007179</td>\n",
              "    </tr>\n",
              "    <tr>\n",
              "      <th>min</th>\n",
              "      <td>1.000000</td>\n",
              "      <td>1.000000</td>\n",
              "    </tr>\n",
              "    <tr>\n",
              "      <th>25%</th>\n",
              "      <td>2.000000</td>\n",
              "      <td>1.000000</td>\n",
              "    </tr>\n",
              "    <tr>\n",
              "      <th>50%</th>\n",
              "      <td>2.000000</td>\n",
              "      <td>1.000000</td>\n",
              "    </tr>\n",
              "    <tr>\n",
              "      <th>75%</th>\n",
              "      <td>2.000000</td>\n",
              "      <td>2.000000</td>\n",
              "    </tr>\n",
              "    <tr>\n",
              "      <th>max</th>\n",
              "      <td>7.000000</td>\n",
              "      <td>8.000000</td>\n",
              "    </tr>\n",
              "  </tbody>\n",
              "</table>\n",
              "</div>"
            ],
            "text/plain": [
              "       Number_of_vehicles_involved  Number_of_casualties\n",
              "count                 12316.000000          12316.000000\n",
              "mean                      2.040679              1.548149\n",
              "std                       0.688790              1.007179\n",
              "min                       1.000000              1.000000\n",
              "25%                       2.000000              1.000000\n",
              "50%                       2.000000              1.000000\n",
              "75%                       2.000000              2.000000\n",
              "max                       7.000000              8.000000"
            ]
          },
          "execution_count": 11,
          "metadata": {},
          "output_type": "execute_result"
        }
      ],
      "source": [
        "df.describe()"
      ]
    },
    {
      "cell_type": "code",
      "execution_count": 12,
      "metadata": {
        "colab": {
          "base_uri": "https://localhost:8080/"
        },
        "id": "cZI3uL-oUjqO",
        "outputId": "f371738e-4d94-4ffa-fc73-2992cf837e8f"
      },
      "outputs": [
        {
          "data": {
            "text/plain": [
              "Index(['Time', 'Day_of_week', 'Age_band_of_driver', 'Sex_of_driver',\n",
              "       'Educational_level', 'Vehicle_driver_relation', 'Driving_experience',\n",
              "       'Type_of_vehicle', 'Owner_of_vehicle', 'Service_year_of_vehicle',\n",
              "       'Defect_of_vehicle', 'Area_accident_occured', 'Lanes_or_Medians',\n",
              "       'Road_allignment', 'Types_of_Junction', 'Road_surface_type',\n",
              "       'Road_surface_conditions', 'Light_conditions', 'Weather_conditions',\n",
              "       'Type_of_collision', 'Number_of_vehicles_involved',\n",
              "       'Number_of_casualties', 'Vehicle_movement', 'Casualty_class',\n",
              "       'Sex_of_casualty', 'Age_band_of_casualty', 'Casualty_severity',\n",
              "       'Work_of_casuality', 'Fitness_of_casuality', 'Pedestrian_movement',\n",
              "       'Cause_of_accident', 'Accident_severity'],\n",
              "      dtype='object')"
            ]
          },
          "execution_count": 12,
          "metadata": {},
          "output_type": "execute_result"
        }
      ],
      "source": [
        "df.columns"
      ]
    },
    {
      "cell_type": "code",
      "execution_count": 13,
      "metadata": {
        "id": "Ll856yqaUjn_"
      },
      "outputs": [],
      "source": [
        "df.columns = map(lambda x: x.strip().lower(), df.columns)"
      ]
    },
    {
      "cell_type": "code",
      "execution_count": 14,
      "metadata": {
        "colab": {
          "base_uri": "https://localhost:8080/"
        },
        "id": "Lr5GOGQXVeUK",
        "outputId": "3460d6e7-5393-4ccd-bbb7-4b99f62acc7d"
      },
      "outputs": [
        {
          "data": {
            "text/plain": [
              "Index(['time', 'day_of_week', 'age_band_of_driver', 'sex_of_driver',\n",
              "       'educational_level', 'vehicle_driver_relation', 'driving_experience',\n",
              "       'type_of_vehicle', 'owner_of_vehicle', 'service_year_of_vehicle',\n",
              "       'defect_of_vehicle', 'area_accident_occured', 'lanes_or_medians',\n",
              "       'road_allignment', 'types_of_junction', 'road_surface_type',\n",
              "       'road_surface_conditions', 'light_conditions', 'weather_conditions',\n",
              "       'type_of_collision', 'number_of_vehicles_involved',\n",
              "       'number_of_casualties', 'vehicle_movement', 'casualty_class',\n",
              "       'sex_of_casualty', 'age_band_of_casualty', 'casualty_severity',\n",
              "       'work_of_casuality', 'fitness_of_casuality', 'pedestrian_movement',\n",
              "       'cause_of_accident', 'accident_severity'],\n",
              "      dtype='object')"
            ]
          },
          "execution_count": 14,
          "metadata": {},
          "output_type": "execute_result"
        }
      ],
      "source": [
        "df.columns"
      ]
    },
    {
      "cell_type": "code",
      "execution_count": 15,
      "metadata": {
        "colab": {
          "base_uri": "https://localhost:8080/",
          "height": 1000
        },
        "id": "zWy_95PuVoSL",
        "outputId": "f007280e-3a1f-4ba2-e05d-8ec917deb588"
      },
      "outputs": [
        {
          "data": {
            "text/plain": [
              "time                           1074\n",
              "day_of_week                       7\n",
              "age_band_of_driver                5\n",
              "sex_of_driver                     3\n",
              "educational_level                 7\n",
              "vehicle_driver_relation           4\n",
              "driving_experience                7\n",
              "type_of_vehicle                  17\n",
              "owner_of_vehicle                  4\n",
              "service_year_of_vehicle           6\n",
              "defect_of_vehicle                 3\n",
              "area_accident_occured            15\n",
              "lanes_or_medians                  8\n",
              "road_allignment                   9\n",
              "types_of_junction                 8\n",
              "road_surface_type                 5\n",
              "road_surface_conditions           4\n",
              "light_conditions                  4\n",
              "weather_conditions                9\n",
              "type_of_collision                10\n",
              "number_of_vehicles_involved       6\n",
              "number_of_casualties              8\n",
              "vehicle_movement                 13\n",
              "casualty_class                    4\n",
              "sex_of_casualty                   4\n",
              "age_band_of_casualty              6\n",
              "casualty_severity                 7\n",
              "work_of_casuality                 7\n",
              "fitness_of_casuality              5\n",
              "pedestrian_movement               9\n",
              "cause_of_accident                20\n",
              "accident_severity                 3\n",
              "dtype: int64"
            ]
          },
          "execution_count": 15,
          "metadata": {},
          "output_type": "execute_result"
        }
      ],
      "source": [
        "df.nunique()"
      ]
    },
    {
      "cell_type": "code",
      "execution_count": 16,
      "metadata": {
        "colab": {
          "base_uri": "https://localhost:8080/",
          "height": 335
        },
        "id": "9-JsHEvdVoOw",
        "outputId": "861a185c-4088-4806-cb86-734fd4206d73"
      },
      "outputs": [
        {
          "data": {
            "text/plain": [
              "day_of_week\n",
              "Friday       2517\n",
              "Thursday     2294\n",
              "Wednesday    2239\n",
              "Tuesday      2184\n",
              "Saturday     2105\n",
              "Monday       2066\n",
              "Sunday       1800\n",
              "Name: count, dtype: int64"
            ]
          },
          "execution_count": 16,
          "metadata": {},
          "output_type": "execute_result"
        }
      ],
      "source": [
        "df['day_of_week'].value_counts()"
      ]
    },
    {
      "cell_type": "code",
      "execution_count": 17,
      "metadata": {
        "colab": {
          "base_uri": "https://localhost:8080/",
          "height": 742
        },
        "id": "VROY5KjAVoMV",
        "outputId": "6baed309-c381-443c-9ea5-6e351f47e596"
      },
      "outputs": [
        {
          "data": {
            "text/plain": [
              "cause_of_accident\n",
              "No distancing                           2822\n",
              "Changing lane to the right              2232\n",
              "Changing lane to the left               1783\n",
              "Driving carelessly                      1739\n",
              "No priority to vehicle                  1484\n",
              "Moving Backward                         1405\n",
              "No priority to pedestrian                881\n",
              "Other                                    554\n",
              "Overtaking                               527\n",
              "Driving under the influence of drugs     429\n",
              "Driving to the left                      351\n",
              "Getting off the vehicle improperly       241\n",
              "Driving at high speed                    217\n",
              "Overturning                              192\n",
              "Turnover                                 106\n",
              "Overspeed                                 81\n",
              "Overloading                               72\n",
              "Drunk driving                             32\n",
              "Unknown                                   29\n",
              "Improper parking                          28\n",
              "Name: count, dtype: int64"
            ]
          },
          "execution_count": 17,
          "metadata": {},
          "output_type": "execute_result"
        }
      ],
      "source": [
        "df['cause_of_accident'].value_counts()"
      ]
    },
    {
      "cell_type": "code",
      "execution_count": 18,
      "metadata": {
        "colab": {
          "base_uri": "https://localhost:8080/",
          "height": 209
        },
        "id": "E_fT-xH8WMIa",
        "outputId": "0ec0218d-ebe6-4c34-8b8a-57f2f4ed0810"
      },
      "outputs": [
        {
          "data": {
            "text/plain": [
              "accident_severity\n",
              "Fatal injury        189\n",
              "Serious Injury     2135\n",
              "Slight Injury     12881\n",
              "dtype: int64"
            ]
          },
          "execution_count": 18,
          "metadata": {},
          "output_type": "execute_result"
        }
      ],
      "source": [
        "df.groupby('accident_severity').size()"
      ]
    },
    {
      "cell_type": "markdown",
      "metadata": {
        "id": "Fm1Vlxo9WMD-"
      },
      "source": [
        "### 2.Handle Missing Values\n",
        "* Identify missing values (df.isnull().sum()).\n",
        "* Decide how to handle them:\n",
        "* Remove rows/columns if missing values are too many.\n",
        "* Impute values using mean, median, mode, or predictive modeling.\n",
        "\n"
      ]
    },
    {
      "cell_type": "code",
      "execution_count": 19,
      "metadata": {
        "colab": {
          "base_uri": "https://localhost:8080/",
          "height": 1000
        },
        "id": "AUioeD0JWwRS",
        "outputId": "e6ecbcc0-17ef-4877-bbb8-e5e35b32ae5b"
      },
      "outputs": [
        {
          "data": {
            "text/plain": [
              "time                              0\n",
              "day_of_week                       0\n",
              "age_band_of_driver                0\n",
              "sex_of_driver                     0\n",
              "educational_level               741\n",
              "vehicle_driver_relation         579\n",
              "driving_experience              829\n",
              "type_of_vehicle                 950\n",
              "owner_of_vehicle                482\n",
              "service_year_of_vehicle        3928\n",
              "defect_of_vehicle              4427\n",
              "area_accident_occured           239\n",
              "lanes_or_medians                385\n",
              "road_allignment                 142\n",
              "types_of_junction               887\n",
              "road_surface_type               172\n",
              "road_surface_conditions           0\n",
              "light_conditions                  0\n",
              "weather_conditions                0\n",
              "type_of_collision               155\n",
              "number_of_vehicles_involved    2889\n",
              "number_of_casualties           2889\n",
              "vehicle_movement                308\n",
              "casualty_class                    0\n",
              "sex_of_casualty                   0\n",
              "age_band_of_casualty           1042\n",
              "casualty_severity                 0\n",
              "work_of_casuality              3198\n",
              "fitness_of_casuality           2635\n",
              "pedestrian_movement               0\n",
              "cause_of_accident                 0\n",
              "accident_severity                 0\n",
              "dtype: int64"
            ]
          },
          "execution_count": 19,
          "metadata": {},
          "output_type": "execute_result"
        }
      ],
      "source": [
        "df.isnull().sum()"
      ]
    },
    {
      "cell_type": "code",
      "execution_count": 20,
      "metadata": {
        "id": "R5daVBshWwMf"
      },
      "outputs": [],
      "source": [
        "from sklearn.impute import SimpleImputer\n",
        "\n",
        "imputer = SimpleImputer(strategy='most_frequent')\n",
        "\n",
        "for col in df.columns:\n",
        "  df[col] = imputer.fit_transform(df[col].values.reshape(-1, 1))[:, 0]\n"
      ]
    },
    {
      "cell_type": "code",
      "execution_count": 21,
      "metadata": {
        "colab": {
          "base_uri": "https://localhost:8080/",
          "height": 1000
        },
        "id": "6iP0X1ysWwKf",
        "outputId": "a876aa22-0a07-4674-cd38-b0021088c0a9"
      },
      "outputs": [
        {
          "data": {
            "text/plain": [
              "time                           0\n",
              "day_of_week                    0\n",
              "age_band_of_driver             0\n",
              "sex_of_driver                  0\n",
              "educational_level              0\n",
              "vehicle_driver_relation        0\n",
              "driving_experience             0\n",
              "type_of_vehicle                0\n",
              "owner_of_vehicle               0\n",
              "service_year_of_vehicle        0\n",
              "defect_of_vehicle              0\n",
              "area_accident_occured          0\n",
              "lanes_or_medians               0\n",
              "road_allignment                0\n",
              "types_of_junction              0\n",
              "road_surface_type              0\n",
              "road_surface_conditions        0\n",
              "light_conditions               0\n",
              "weather_conditions             0\n",
              "type_of_collision              0\n",
              "number_of_vehicles_involved    0\n",
              "number_of_casualties           0\n",
              "vehicle_movement               0\n",
              "casualty_class                 0\n",
              "sex_of_casualty                0\n",
              "age_band_of_casualty           0\n",
              "casualty_severity              0\n",
              "work_of_casuality              0\n",
              "fitness_of_casuality           0\n",
              "pedestrian_movement            0\n",
              "cause_of_accident              0\n",
              "accident_severity              0\n",
              "dtype: int64"
            ]
          },
          "execution_count": 21,
          "metadata": {},
          "output_type": "execute_result"
        }
      ],
      "source": [
        "df.isnull().sum()"
      ]
    },
    {
      "cell_type": "markdown",
      "metadata": {
        "id": "igovFgixWwIL"
      },
      "source": [
        "### 3. Handle Duplicates\n",
        "* Check for duplicate rows ```df.duplicated().sum()```\n",
        "* Remove duplicates if necessary `df.drop_duplicates()`."
      ]
    },
    {
      "cell_type": "code",
      "execution_count": 22,
      "metadata": {
        "colab": {
          "base_uri": "https://localhost:8080/"
        },
        "id": "ll6LgOa0WwGI",
        "outputId": "f28b2625-8b80-4531-d90d-41a9520218bb"
      },
      "outputs": [
        {
          "data": {
            "text/plain": [
              "np.int64(0)"
            ]
          },
          "execution_count": 22,
          "metadata": {},
          "output_type": "execute_result"
        }
      ],
      "source": [
        "df.duplicated().sum()"
      ]
    },
    {
      "cell_type": "markdown",
      "metadata": {
        "id": "y_bZqoQdWMB9"
      },
      "source": [
        "### 4. Handle Outliers\n",
        "* Use boxplots, histograms, or IQR (Interquartile Range) method to detect outliers.\n",
        "* Remove or transform outliers if they negatively impact the model.\n",
        "##### Outlier Detection methods\n",
        "* 1.Sorting method\n",
        "* 2.Interquartile Range (IQR)\n",
        "* 3.Using visualizations\n",
        "* 4.Statistical outlier detection\n",
        "* 5.Density-Based Spatial Clustering of Applications with Noise (DBSCAN"
      ]
    },
    {
      "cell_type": "code",
      "execution_count": 23,
      "metadata": {
        "colab": {
          "base_uri": "https://localhost:8080/",
          "height": 349
        },
        "id": "vDgtY1yJZiS-",
        "outputId": "c32fc362-d471-4c15-9e0e-12f479608b4c"
      },
      "outputs": [
        {
          "ename": "ModuleNotFoundError",
          "evalue": "No module named 'seaborn'",
          "output_type": "error",
          "traceback": [
            "\u001b[1;31m---------------------------------------------------------------------------\u001b[0m",
            "\u001b[1;31mModuleNotFoundError\u001b[0m                       Traceback (most recent call last)",
            "Cell \u001b[1;32mIn[23], line 1\u001b[0m\n\u001b[1;32m----> 1\u001b[0m \u001b[38;5;28;01mimport\u001b[39;00m \u001b[38;5;21;01mseaborn\u001b[39;00m \u001b[38;5;28;01mas\u001b[39;00m \u001b[38;5;21;01msns\u001b[39;00m\n\u001b[0;32m      2\u001b[0m \u001b[38;5;28;01mimport\u001b[39;00m \u001b[38;5;21;01mmatplotlib\u001b[39;00m\u001b[38;5;21;01m.\u001b[39;00m\u001b[38;5;21;01mpyplot\u001b[39;00m \u001b[38;5;28;01mas\u001b[39;00m \u001b[38;5;21;01mplt\u001b[39;00m\n\u001b[0;32m      3\u001b[0m plt\u001b[38;5;241m.\u001b[39mfigure(figsize\u001b[38;5;241m=\u001b[39m(\u001b[38;5;241m10\u001b[39m,\u001b[38;5;241m5\u001b[39m))\n",
            "\u001b[1;31mModuleNotFoundError\u001b[0m: No module named 'seaborn'"
          ]
        }
      ],
      "source": [
        "import seaborn as sns\n",
        "import matplotlib.pyplot as plt\n",
        "plt.figure(figsize=(10,5))\n",
        "sns.boxplot(df)\n",
        "plt.show()"
      ]
    },
    {
      "cell_type": "code",
      "execution_count": null,
      "metadata": {
        "colab": {
          "base_uri": "https://localhost:8080/",
          "height": 307
        },
        "id": "XKMa_bXQdkyK",
        "outputId": "aa393ced-33cd-4f38-9e0f-829a08b1aa23"
      },
      "outputs": [],
      "source": [
        "df.head()"
      ]
    },
    {
      "cell_type": "code",
      "execution_count": null,
      "metadata": {
        "colab": {
          "base_uri": "https://localhost:8080/",
          "height": 351
        },
        "id": "vUYbJVmDsP9-",
        "outputId": "faccfbc1-aec7-4112-b6ff-5e8e4ac4f55b"
      },
      "outputs": [],
      "source": [
        "plt.figure(figsize=(10,5))\n",
        "sns.kdeplot(df['number_of_casualties'],fill=True)\n",
        "sns.kdeplot(df['number_of_vehicles_involved'],fill=True)\n",
        "plt.show()\n"
      ]
    },
    {
      "cell_type": "code",
      "execution_count": null,
      "metadata": {
        "colab": {
          "base_uri": "https://localhost:8080/"
        },
        "id": "xJRlJa6gsP6p",
        "outputId": "102bb2e4-b8f1-45d7-fba1-0350dcb8a975"
      },
      "outputs": [],
      "source": [
        "df['number_of_casualties'].mean()"
      ]
    },
    {
      "cell_type": "code",
      "execution_count": null,
      "metadata": {
        "colab": {
          "base_uri": "https://localhost:8080/",
          "height": 585
        },
        "id": "9-2jXWKmsP4W",
        "outputId": "70f52be2-8e24-4443-f69c-8191eee86aff"
      },
      "outputs": [],
      "source": [
        "df['area_accident_occured'].value_counts()"
      ]
    },
    {
      "cell_type": "code",
      "execution_count": null,
      "metadata": {
        "colab": {
          "base_uri": "https://localhost:8080/",
          "height": 430
        },
        "id": "5wC3CuVUsP2D",
        "outputId": "10e6a40d-9355-48d3-87b8-5cda8292ef02"
      },
      "outputs": [],
      "source": [
        "sns.barplot(df['number_of_casualties'])\n",
        "plt.show()"
      ]
    },
    {
      "cell_type": "code",
      "execution_count": null,
      "metadata": {
        "colab": {
          "base_uri": "https://localhost:8080/",
          "height": 335
        },
        "id": "BbCU6vDvvif1",
        "outputId": "cec2b279-a5ce-4c7b-b6ad-6c5492ec3a9e"
      },
      "outputs": [],
      "source": [
        "df['casualty_severity'].value_counts()"
      ]
    },
    {
      "cell_type": "code",
      "execution_count": null,
      "metadata": {
        "colab": {
          "base_uri": "https://localhost:8080/",
          "height": 1000
        },
        "id": "OV0948o_sPzs",
        "outputId": "36d43f63-7d0c-4055-a363-bd95d115523f"
      },
      "outputs": [],
      "source": [
        "df.dtypes"
      ]
    },
    {
      "cell_type": "markdown",
      "metadata": {
        "id": "WElZ2wkwsPxQ"
      },
      "source": [
        "### 5. Handle Incorrect or Inconsistent Data"
      ]
    },
    {
      "cell_type": "code",
      "execution_count": 47,
      "metadata": {
        "id": "6zUrF7cIu2Vr"
      },
      "outputs": [],
      "source": [
        "df['time'] = pd.to_datetime(df['time'])\n"
      ]
    },
    {
      "cell_type": "code",
      "execution_count": null,
      "metadata": {
        "colab": {
          "base_uri": "https://localhost:8080/",
          "height": 429
        },
        "id": "_KkmxMtUu2SQ",
        "outputId": "2b4ae1ff-a106-4ee0-9f97-9892abc96a7a"
      },
      "outputs": [],
      "source": [
        "df.head()"
      ]
    },
    {
      "cell_type": "markdown",
      "metadata": {
        "id": "QILfrBruu2P1"
      },
      "source": [
        "### 7.Save the preprocessed data"
      ]
    },
    {
      "cell_type": "code",
      "execution_count": 48,
      "metadata": {
        "id": "p-uek1BixvBI"
      },
      "outputs": [],
      "source": [
        "df.to_csv('processed_data.csv', index=False)"
      ]
    },
    {
      "cell_type": "code",
      "execution_count": null,
      "metadata": {
        "id": "cPYKFP_mxu93"
      },
      "outputs": [],
      "source": []
    },
    {
      "cell_type": "code",
      "execution_count": null,
      "metadata": {
        "id": "rWwlU9Bgxu7a"
      },
      "outputs": [],
      "source": []
    }
  ],
  "metadata": {
    "colab": {
      "provenance": []
    },
    "kernelspec": {
      "display_name": "base",
      "language": "python",
      "name": "python3"
    },
    "language_info": {
      "codemirror_mode": {
        "name": "ipython",
        "version": 3
      },
      "file_extension": ".py",
      "mimetype": "text/x-python",
      "name": "python",
      "nbconvert_exporter": "python",
      "pygments_lexer": "ipython3",
      "version": "3.11.7"
    }
  },
  "nbformat": 4,
  "nbformat_minor": 0
}
